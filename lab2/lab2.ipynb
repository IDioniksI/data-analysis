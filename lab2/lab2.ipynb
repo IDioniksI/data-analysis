{
 "cells": [
  {
   "cell_type": "markdown",
   "source": [
    "## <center>Підготовка та аналіз даних</center>\n",
    "## <center>Лабораторна робота №2</center>\n",
    "#### <center>ФБ-25 Кравченко Максим</center>"
   ],
   "metadata": {
    "collapsed": false
   },
   "id": "fc14e381c5c48f75"
  },
  {
   "cell_type": "markdown",
   "source": [
    "Імпортуємо потрібні нам бібліотеки"
   ],
   "metadata": {
    "collapsed": false
   },
   "id": "4f68980069867b2e"
  },
  {
   "cell_type": "code",
   "outputs": [],
   "source": [
    "import datetime\n",
    "import requests\n",
    "import urllib.request\n",
    "import pandas as pd\n",
    "import os\n"
   ],
   "metadata": {
    "collapsed": false,
    "ExecuteTime": {
     "end_time": "2024-03-30T07:26:14.099849Z",
     "start_time": "2024-03-30T07:26:13.441237Z"
    }
   },
   "id": "de0396122080d568",
   "execution_count": 1
  },
  {
   "cell_type": "markdown",
   "source": [
    "Скачуємо VHI індекси для всіх областей\n",
    "Також додаємо в назву дату та час скачування"
   ],
   "metadata": {
    "collapsed": false
   },
   "id": "cf675c92d0a4a1c"
  },
  {
   "cell_type": "code",
   "outputs": [
    {
     "name": "stdout",
     "output_type": "stream",
     "text": [
      "VHI from id 1 was downloaded at 2024-03-30_09-20-19\n",
      "VHI from id 2 was downloaded at 2024-03-30_09-20-22\n",
      "VHI from id 3 was downloaded at 2024-03-30_09-20-25\n"
     ]
    }
   ],
   "source": [
    "for ids in range(1, 28):\n",
    "    url = f\"https://www.star.nesdis.noaa.gov/smcd/emb/vci/VH/get_TS_admin.php?country=UKR&provinceID={ids}&year1=1981&year2=2024&type=Mean\"\n",
    "    response = requests.get(url)\n",
    "    if response.status_code == 200:\n",
    "        if not os.path.exists('vhi'):\n",
    "            os.mkdir('vhi')\n",
    "            print(f'The folder is created')\n",
    "        date_now = datetime.datetime.now().strftime(\"%Y-%m-%d_%H-%M-%S\")\n",
    "        vhi_url = urllib.request.urlopen(url)\n",
    "        file_name = f'vhi/vhi_id_{ids}_{date_now}.csv'\n",
    "        out = open(file_name, 'wb')\n",
    "        out.write(vhi_url.read())\n",
    "        out.close()\n",
    "        print(f\"VHI from id {ids} was downloaded at {date_now}\")\n",
    "    else:\n",
    "        print(f\"Download complete\")\n",
    "        break"
   ],
   "metadata": {
    "collapsed": false,
    "is_executing": true,
    "ExecuteTime": {
     "start_time": "2024-03-30T07:20:16.582507Z"
    }
   },
   "id": "8dbd24892bd7d25f",
   "execution_count": null
  },
  {
   "cell_type": "markdown",
   "source": [
    "Даємо імена стовбцям, зчитуємо файли у фрейм"
   ],
   "metadata": {
    "collapsed": false
   },
   "id": "80489f43036ad07f"
  },
  {
   "cell_type": "code",
   "outputs": [
    {
     "name": "stdout",
     "output_type": "stream",
     "text": [
      "       Year  Week    SMN     SMT    VCI    TCI    VHI  area\n",
      "0      1982   2.0  0.063  261.53  55.89  38.20  47.04    10\n",
      "1      1982   3.0  0.063  263.45  57.30  32.69  44.99    10\n",
      "2      1982   4.0  0.061  265.10  53.96  28.62  41.29    10\n",
      "3      1982   5.0  0.058  266.42  46.87  28.57  37.72    10\n",
      "4      1982   6.0  0.056  267.47  39.55  30.27  34.91    10\n",
      "...     ...   ...    ...     ...    ...    ...    ...   ...\n",
      "64345  2024   8.0  0.134  281.83  62.33   3.92  33.13     9\n",
      "64346  2024   9.0  0.147  283.80  61.79   4.57  33.18     9\n",
      "64347  2024  10.0  0.158  285.63  59.96   6.30  33.13     9\n",
      "64348  2024  11.0  0.164  286.56  56.53   9.83  33.18     9\n",
      "64349  2024  12.0  0.175  287.65  55.86  13.89  34.87     9\n",
      "\n",
      "[64350 rows x 8 columns] \n"
     ]
    },
    {
     "name": "stderr",
     "output_type": "stream",
     "text": [
      "C:\\Users\\maxww\\AppData\\Local\\Temp\\ipykernel_22148\\1112196415.py:16: FutureWarning: The behavior of DataFrame concatenation with empty or all-NA entries is deprecated. In a future version, this will no longer exclude empty or all-NA columns when determining the result dtypes. To retain the old behavior, exclude the relevant entries before the concat operation.\n",
      "  df_all = pd.concat([df_all, df], ignore_index=True)\n"
     ]
    }
   ],
   "source": [
    "folder = 'vhi'\n",
    "files = os.listdir(folder)\n",
    "# ids = 0\n",
    "df_all = pd.DataFrame()\n",
    "\n",
    "for file_name in files:\n",
    "    # ids += 1\n",
    "    \n",
    "    headers = ['Year', 'Week', 'SMN', 'SMT', 'VCI', 'TCI', 'VHI', 'empty']\n",
    "    df = pd.read_csv(f'{folder}/{file_name}', header=1, names=headers, skiprows=1)[:-1]\n",
    "    df = df.drop(df.loc[df['VHI'] == -1].index)\n",
    "    df['area'] = int(file_name.split(\"_\")[2])\n",
    "    # print(df.head(), '\\n')\n",
    "    # df_all = pd.concat([df_all, df], ignore_index=True)\n",
    "    df = df.drop(columns=['empty'])\n",
    "    df_all = df_all.dropna(axis=1, how='all')\n",
    "    df_all = pd.concat([df_all, df]).drop_duplicates().reset_index(drop=True)\n",
    "    \n",
    "# zm = df_all.isna().sum()\n",
    "# print(zm)\n",
    "print(df_all, '\\n')"
   ],
   "metadata": {
    "collapsed": false,
    "ExecuteTime": {
     "end_time": "2024-03-30T09:00:42.185037Z",
     "start_time": "2024-03-30T09:00:41.975937Z"
    }
   },
   "id": "db482e126477ec7f",
   "execution_count": 40
  },
  {
   "cell_type": "markdown",
   "source": [
    "Змінимо індекси областей"
   ],
   "metadata": {
    "collapsed": false
   },
   "id": "42b687c4180eeb1"
  },
  {
   "cell_type": "code",
   "outputs": [
    {
     "name": "stdout",
     "output_type": "stream",
     "text": [
      "       Year  Week    SMN     SMT    VCI    TCI    VHI  area\n",
      "0      1982   2.0  0.063  261.53  55.89  38.20  47.04    21\n",
      "1      1982   3.0  0.063  263.45  57.30  32.69  44.99    21\n",
      "2      1982   4.0  0.061  265.10  53.96  28.62  41.29    21\n",
      "3      1982   5.0  0.058  266.42  46.87  28.57  37.72    21\n",
      "4      1982   6.0  0.056  267.47  39.55  30.27  34.91    21\n",
      "...     ...   ...    ...     ...    ...    ...    ...   ...\n",
      "57910  2024   8.0  0.134  281.83  62.33   3.92  33.13    20\n",
      "57911  2024   9.0  0.147  283.80  61.79   4.57  33.18    20\n",
      "57912  2024  10.0  0.158  285.63  59.96   6.30  33.13    20\n",
      "57913  2024  11.0  0.164  286.56  56.53   9.83  33.18    20\n",
      "57914  2024  12.0  0.175  287.65  55.86  13.89  34.87    20\n",
      "\n",
      "[57915 rows x 8 columns]\n"
     ]
    }
   ],
   "source": [
    "dict_areas = {1: 22, 2: 24, 3: 23, 4: 25, 5: 3, 6: 4, 7: 8, 8: 19, 9: 20, 10: 21, 11: 9, 13: 10, 14: 11, 15: 12,\n",
    "              16: 13, 17: 15, 18: 14, 19: 16, 21: 17, 22: 18, 23: 6, 24: 1, 25: 2, 26: 7, 27: 5}\n",
    "df_all[\"area\"] = df_all[\"area\"].replace(dict_areas)\n",
    "df_all.to_csv(f'vhi/df_all.csv', index=False)\n",
    "\n",
    "print(df_all)"
   ],
   "metadata": {
    "collapsed": false,
    "ExecuteTime": {
     "end_time": "2024-03-30T07:36:02.703521Z",
     "start_time": "2024-03-30T07:36:02.414932Z"
    }
   },
   "id": "2b145b37d7eb786a",
   "execution_count": 13
  },
  {
   "cell_type": "markdown",
   "source": [
    "Ряд VHI для області за вказаний рік, пошук екстремумів (min та max);"
   ],
   "metadata": {
    "collapsed": false
   },
   "id": "632a3adc656dbfd6"
  },
  {
   "cell_type": "code",
   "outputs": [],
   "source": [
    "def vhi(area, year):\n",
    "    return df_all[(df_all[\"area\"] == area) & (df_all[\"Year\"] == year)]['VHI']\n",
    "\n",
    "def vhi_min(area, year):\n",
    "    return df_all[(df_all[\"area\"] == area) & (df_all[\"Year\"] == year)]['VHI'].min()\n",
    "\n",
    "def vhi_max(area, year):\n",
    "    return df_all[(df_all[\"area\"] == area) & (df_all[\"Year\"] == year)]['VHI'].max()\n",
    "\n",
    "df_all['Year'] = df_all['Year'].astype(int)"
   ],
   "metadata": {
    "collapsed": false,
    "ExecuteTime": {
     "end_time": "2024-03-30T07:36:47.171914Z",
     "start_time": "2024-03-30T07:36:47.157949Z"
    }
   },
   "id": "9dbad0af5f294086",
   "execution_count": 15
  },
  {
   "cell_type": "code",
   "outputs": [
    {
     "data": {
      "text/plain": "31176    47.42\n31177    51.20\n31178    53.68\n31179    54.35\n31180    54.66\n31181    56.10\n31182    56.81\n31183    56.06\n31184    56.27\n31185    56.51\n31186    56.42\n31187    56.02\n31188    54.84\n31189    52.12\n31190    49.52\n31191    48.44\n31192    53.62\n31193    52.32\n31194    52.21\n31195    51.77\n31196    53.50\n31197    54.49\n31198    54.25\n31199    55.50\n31200    57.29\n31201    57.93\n31202    58.44\n31203    65.13\n31204    59.35\n31205    61.40\n31206    63.51\n31207    64.39\n31208    66.13\n31209    65.04\n31210    60.86\n31211    57.68\n31212    56.59\n31213    54.98\n31214    53.23\n31215    52.48\n31216    55.20\n31217    57.22\n31218    57.66\n31219    58.95\n31220    56.50\n31221    54.77\n31222    54.48\n31223    53.22\n31224    50.36\n31225    47.41\n31226    45.59\nName: VHI, dtype: float64"
     },
     "execution_count": 16,
     "metadata": {},
     "output_type": "execute_result"
    }
   ],
   "source": [
    "vhi(6, 2005)"
   ],
   "metadata": {
    "collapsed": false,
    "ExecuteTime": {
     "end_time": "2024-03-30T07:36:48.988524Z",
     "start_time": "2024-03-30T07:36:48.978634Z"
    }
   },
   "id": "5c67ef44cb95dba5",
   "execution_count": 16
  },
  {
   "cell_type": "code",
   "outputs": [
    {
     "data": {
      "text/plain": "45.59"
     },
     "execution_count": 18,
     "metadata": {},
     "output_type": "execute_result"
    }
   ],
   "source": [
    "vhi_min(6, 2005)\n"
   ],
   "metadata": {
    "collapsed": false,
    "ExecuteTime": {
     "end_time": "2024-03-30T07:38:09.963608Z",
     "start_time": "2024-03-30T07:38:09.955150Z"
    }
   },
   "id": "c2bb5911b9baf5ff",
   "execution_count": 18
  },
  {
   "cell_type": "code",
   "outputs": [
    {
     "data": {
      "text/plain": "67.33"
     },
     "execution_count": 8,
     "metadata": {},
     "output_type": "execute_result"
    }
   ],
   "source": [
    "vhi_max(6, 2005)"
   ],
   "metadata": {
    "collapsed": false,
    "ExecuteTime": {
     "end_time": "2024-03-27T17:09:47.137101Z",
     "start_time": "2024-03-27T17:09:47.129144Z"
    }
   },
   "id": "351177b371823c66",
   "execution_count": 8
  },
  {
   "cell_type": "markdown",
   "source": [
    "Ряд VHI за вказаний діапазон років для вказаних областей;"
   ],
   "metadata": {
    "collapsed": false
   },
   "id": "6c4fa7f1dc1034"
  },
  {
   "cell_type": "code",
   "outputs": [],
   "source": [
    "def vhi_range(year_min, year_max, areas):\n",
    "    if not isinstance(areas, list) or not areas:\n",
    "        return print('Empty or not a list')\n",
    "    return df_all[(df_all['Year'] >= year_min) & (df_all['Year'] <= year_max) & (df_all['area'].isin(areas))][['Year', 'VHI', 'area']]"
   ],
   "metadata": {
    "collapsed": false,
    "ExecuteTime": {
     "end_time": "2024-03-30T07:39:41.943891Z",
     "start_time": "2024-03-30T07:39:41.937760Z"
    }
   },
   "id": "d6330356711067b2",
   "execution_count": 19
  },
  {
   "cell_type": "code",
   "outputs": [
    {
     "data": {
      "text/plain": "       Year    VHI  area\n35225  2000  24.65     2\n35226  2000  27.49     2\n35227  2000  31.36     2\n35228  2000  37.28     2\n35229  2000  40.85     2\n...     ...    ...   ...\n48382  2005  40.70     3\n48383  2005  42.92     3\n48384  2005  41.13     3\n48385  2005  41.49     3\n48386  2005  44.08     3\n\n[876 rows x 3 columns]",
      "text/html": "<div>\n<style scoped>\n    .dataframe tbody tr th:only-of-type {\n        vertical-align: middle;\n    }\n\n    .dataframe tbody tr th {\n        vertical-align: top;\n    }\n\n    .dataframe thead th {\n        text-align: right;\n    }\n</style>\n<table border=\"1\" class=\"dataframe\">\n  <thead>\n    <tr style=\"text-align: right;\">\n      <th></th>\n      <th>Year</th>\n      <th>VHI</th>\n      <th>area</th>\n    </tr>\n  </thead>\n  <tbody>\n    <tr>\n      <th>35225</th>\n      <td>2000</td>\n      <td>24.65</td>\n      <td>2</td>\n    </tr>\n    <tr>\n      <th>35226</th>\n      <td>2000</td>\n      <td>27.49</td>\n      <td>2</td>\n    </tr>\n    <tr>\n      <th>35227</th>\n      <td>2000</td>\n      <td>31.36</td>\n      <td>2</td>\n    </tr>\n    <tr>\n      <th>35228</th>\n      <td>2000</td>\n      <td>37.28</td>\n      <td>2</td>\n    </tr>\n    <tr>\n      <th>35229</th>\n      <td>2000</td>\n      <td>40.85</td>\n      <td>2</td>\n    </tr>\n    <tr>\n      <th>...</th>\n      <td>...</td>\n      <td>...</td>\n      <td>...</td>\n    </tr>\n    <tr>\n      <th>48382</th>\n      <td>2005</td>\n      <td>40.70</td>\n      <td>3</td>\n    </tr>\n    <tr>\n      <th>48383</th>\n      <td>2005</td>\n      <td>42.92</td>\n      <td>3</td>\n    </tr>\n    <tr>\n      <th>48384</th>\n      <td>2005</td>\n      <td>41.13</td>\n      <td>3</td>\n    </tr>\n    <tr>\n      <th>48385</th>\n      <td>2005</td>\n      <td>41.49</td>\n      <td>3</td>\n    </tr>\n    <tr>\n      <th>48386</th>\n      <td>2005</td>\n      <td>44.08</td>\n      <td>3</td>\n    </tr>\n  </tbody>\n</table>\n<p>876 rows × 3 columns</p>\n</div>"
     },
     "execution_count": 21,
     "metadata": {},
     "output_type": "execute_result"
    }
   ],
   "source": [
    "vhi_range(2000, 2005, [5, 2, 3])"
   ],
   "metadata": {
    "collapsed": false,
    "ExecuteTime": {
     "end_time": "2024-03-30T07:39:53.900239Z",
     "start_time": "2024-03-30T07:39:53.883923Z"
    }
   },
   "id": "8f030efeac64dc00",
   "execution_count": 21
  },
  {
   "cell_type": "markdown",
   "source": [
    "Роки, протягом яких екстремальні посухи торкнулися більше вказаного відсотка областей"
   ],
   "metadata": {
    "collapsed": false
   },
   "id": "966b2871126f482f"
  },
  {
   "cell_type": "code",
   "outputs": [],
   "source": [
    "def extreme_droughts(procent):\n",
    "    df_drouhts = df_all[(df_all['VHI'] <= 15) & (df_all['VHI'] != -1)]\n",
    "    grouped = df_drouhts.groupby('Year')['area'].nunique()\n",
    "    result = grouped[grouped > (25 * procent / 100)].reset_index()\n",
    "    return result"
   ],
   "metadata": {
    "collapsed": false,
    "ExecuteTime": {
     "end_time": "2024-03-30T07:41:55.498419Z",
     "start_time": "2024-03-30T07:41:55.492828Z"
    }
   },
   "id": "7f3324f43b066dff",
   "execution_count": 24
  },
  {
   "cell_type": "code",
   "outputs": [
    {
     "data": {
      "text/plain": "   Year  area\n0  1986     2\n1  1993     2\n2  2000     6\n3  2007     5",
      "text/html": "<div>\n<style scoped>\n    .dataframe tbody tr th:only-of-type {\n        vertical-align: middle;\n    }\n\n    .dataframe tbody tr th {\n        vertical-align: top;\n    }\n\n    .dataframe thead th {\n        text-align: right;\n    }\n</style>\n<table border=\"1\" class=\"dataframe\">\n  <thead>\n    <tr style=\"text-align: right;\">\n      <th></th>\n      <th>Year</th>\n      <th>area</th>\n    </tr>\n  </thead>\n  <tbody>\n    <tr>\n      <th>0</th>\n      <td>1986</td>\n      <td>2</td>\n    </tr>\n    <tr>\n      <th>1</th>\n      <td>1993</td>\n      <td>2</td>\n    </tr>\n    <tr>\n      <th>2</th>\n      <td>2000</td>\n      <td>6</td>\n    </tr>\n    <tr>\n      <th>3</th>\n      <td>2007</td>\n      <td>5</td>\n    </tr>\n  </tbody>\n</table>\n</div>"
     },
     "execution_count": 28,
     "metadata": {},
     "output_type": "execute_result"
    }
   ],
   "source": [
    "extreme_droughts(5)"
   ],
   "metadata": {
    "collapsed": false,
    "ExecuteTime": {
     "end_time": "2024-03-30T07:42:18.748476Z",
     "start_time": "2024-03-30T07:42:18.736147Z"
    }
   },
   "id": "c1611615e5754f8f",
   "execution_count": 28
  },
  {
   "cell_type": "markdown",
   "source": [
    "Аналогічно для помірних посух"
   ],
   "metadata": {
    "collapsed": false
   },
   "id": "74fd3bb1c45a12f7"
  },
  {
   "cell_type": "code",
   "outputs": [],
   "source": [
    "def moderate_droughts(procent, min=15, max=40):\n",
    "    df_drouhts = df_all[(df_all['VHI'] >= min) & (df_all['VHI'] <= max)]\n",
    "    grouped = df_drouhts.groupby('Year')['area'].nunique()\n",
    "    count_areas = df_all['area'].nunique()\n",
    "    result = grouped[grouped > (count_areas * procent / 100)].reset_index()\n",
    "    return result"
   ],
   "metadata": {
    "collapsed": false,
    "ExecuteTime": {
     "end_time": "2024-03-30T07:45:09.039147Z",
     "start_time": "2024-03-30T07:45:09.030011Z"
    }
   },
   "id": "f4ad8b2ed29bf275",
   "execution_count": 31
  },
  {
   "cell_type": "code",
   "outputs": [
    {
     "data": {
      "text/plain": "    Year  area\n0   1982    25\n1   1983    25\n2   1984    25\n3   1985    25\n4   1986    25\n5   1987    25\n6   1988    25\n7   1989    25\n8   1990    25\n9   1991    24\n10  1992    25\n11  1993    25\n12  1994    25\n13  1995    25\n14  1996    25\n15  1997    22\n16  1998    18\n17  1999    25\n18  2000    25\n19  2001    21\n20  2002    21\n21  2003    20\n22  2004     6\n23  2005    15\n24  2006    21\n25  2007    21\n26  2008    22\n27  2009    25\n28  2010    22\n29  2011    21\n30  2012    19\n31  2013    23\n32  2014    21\n33  2015    25\n34  2016    23\n35  2017    22\n36  2018    24\n37  2019    25\n38  2020    23\n39  2021    23\n40  2022    23\n41  2023    23\n42  2024     9",
      "text/html": "<div>\n<style scoped>\n    .dataframe tbody tr th:only-of-type {\n        vertical-align: middle;\n    }\n\n    .dataframe tbody tr th {\n        vertical-align: top;\n    }\n\n    .dataframe thead th {\n        text-align: right;\n    }\n</style>\n<table border=\"1\" class=\"dataframe\">\n  <thead>\n    <tr style=\"text-align: right;\">\n      <th></th>\n      <th>Year</th>\n      <th>area</th>\n    </tr>\n  </thead>\n  <tbody>\n    <tr>\n      <th>0</th>\n      <td>1982</td>\n      <td>25</td>\n    </tr>\n    <tr>\n      <th>1</th>\n      <td>1983</td>\n      <td>25</td>\n    </tr>\n    <tr>\n      <th>2</th>\n      <td>1984</td>\n      <td>25</td>\n    </tr>\n    <tr>\n      <th>3</th>\n      <td>1985</td>\n      <td>25</td>\n    </tr>\n    <tr>\n      <th>4</th>\n      <td>1986</td>\n      <td>25</td>\n    </tr>\n    <tr>\n      <th>5</th>\n      <td>1987</td>\n      <td>25</td>\n    </tr>\n    <tr>\n      <th>6</th>\n      <td>1988</td>\n      <td>25</td>\n    </tr>\n    <tr>\n      <th>7</th>\n      <td>1989</td>\n      <td>25</td>\n    </tr>\n    <tr>\n      <th>8</th>\n      <td>1990</td>\n      <td>25</td>\n    </tr>\n    <tr>\n      <th>9</th>\n      <td>1991</td>\n      <td>24</td>\n    </tr>\n    <tr>\n      <th>10</th>\n      <td>1992</td>\n      <td>25</td>\n    </tr>\n    <tr>\n      <th>11</th>\n      <td>1993</td>\n      <td>25</td>\n    </tr>\n    <tr>\n      <th>12</th>\n      <td>1994</td>\n      <td>25</td>\n    </tr>\n    <tr>\n      <th>13</th>\n      <td>1995</td>\n      <td>25</td>\n    </tr>\n    <tr>\n      <th>14</th>\n      <td>1996</td>\n      <td>25</td>\n    </tr>\n    <tr>\n      <th>15</th>\n      <td>1997</td>\n      <td>22</td>\n    </tr>\n    <tr>\n      <th>16</th>\n      <td>1998</td>\n      <td>18</td>\n    </tr>\n    <tr>\n      <th>17</th>\n      <td>1999</td>\n      <td>25</td>\n    </tr>\n    <tr>\n      <th>18</th>\n      <td>2000</td>\n      <td>25</td>\n    </tr>\n    <tr>\n      <th>19</th>\n      <td>2001</td>\n      <td>21</td>\n    </tr>\n    <tr>\n      <th>20</th>\n      <td>2002</td>\n      <td>21</td>\n    </tr>\n    <tr>\n      <th>21</th>\n      <td>2003</td>\n      <td>20</td>\n    </tr>\n    <tr>\n      <th>22</th>\n      <td>2004</td>\n      <td>6</td>\n    </tr>\n    <tr>\n      <th>23</th>\n      <td>2005</td>\n      <td>15</td>\n    </tr>\n    <tr>\n      <th>24</th>\n      <td>2006</td>\n      <td>21</td>\n    </tr>\n    <tr>\n      <th>25</th>\n      <td>2007</td>\n      <td>21</td>\n    </tr>\n    <tr>\n      <th>26</th>\n      <td>2008</td>\n      <td>22</td>\n    </tr>\n    <tr>\n      <th>27</th>\n      <td>2009</td>\n      <td>25</td>\n    </tr>\n    <tr>\n      <th>28</th>\n      <td>2010</td>\n      <td>22</td>\n    </tr>\n    <tr>\n      <th>29</th>\n      <td>2011</td>\n      <td>21</td>\n    </tr>\n    <tr>\n      <th>30</th>\n      <td>2012</td>\n      <td>19</td>\n    </tr>\n    <tr>\n      <th>31</th>\n      <td>2013</td>\n      <td>23</td>\n    </tr>\n    <tr>\n      <th>32</th>\n      <td>2014</td>\n      <td>21</td>\n    </tr>\n    <tr>\n      <th>33</th>\n      <td>2015</td>\n      <td>25</td>\n    </tr>\n    <tr>\n      <th>34</th>\n      <td>2016</td>\n      <td>23</td>\n    </tr>\n    <tr>\n      <th>35</th>\n      <td>2017</td>\n      <td>22</td>\n    </tr>\n    <tr>\n      <th>36</th>\n      <td>2018</td>\n      <td>24</td>\n    </tr>\n    <tr>\n      <th>37</th>\n      <td>2019</td>\n      <td>25</td>\n    </tr>\n    <tr>\n      <th>38</th>\n      <td>2020</td>\n      <td>23</td>\n    </tr>\n    <tr>\n      <th>39</th>\n      <td>2021</td>\n      <td>23</td>\n    </tr>\n    <tr>\n      <th>40</th>\n      <td>2022</td>\n      <td>23</td>\n    </tr>\n    <tr>\n      <th>41</th>\n      <td>2023</td>\n      <td>23</td>\n    </tr>\n    <tr>\n      <th>42</th>\n      <td>2024</td>\n      <td>9</td>\n    </tr>\n  </tbody>\n</table>\n</div>"
     },
     "execution_count": 32,
     "metadata": {},
     "output_type": "execute_result"
    }
   ],
   "source": [
    "moderate_droughts(20)"
   ],
   "metadata": {
    "collapsed": false,
    "ExecuteTime": {
     "end_time": "2024-03-30T07:45:09.671329Z",
     "start_time": "2024-03-30T07:45:09.658365Z"
    }
   },
   "id": "13ae1a171ce9927b",
   "execution_count": 32
  },
  {
   "cell_type": "code",
   "outputs": [],
   "source": [],
   "metadata": {
    "collapsed": false,
    "ExecuteTime": {
     "start_time": "2024-03-27T16:56:45.858690Z"
    }
   },
   "id": "3dc0ae4bba2a2e6e"
  }
 ],
 "metadata": {
  "kernelspec": {
   "display_name": "Python 3",
   "language": "python",
   "name": "python3"
  },
  "language_info": {
   "codemirror_mode": {
    "name": "ipython",
    "version": 2
   },
   "file_extension": ".py",
   "mimetype": "text/x-python",
   "name": "python",
   "nbconvert_exporter": "python",
   "pygments_lexer": "ipython2",
   "version": "2.7.6"
  }
 },
 "nbformat": 4,
 "nbformat_minor": 5
}
