{
 "cells": [
  {
   "cell_type": "markdown",
   "source": [
    "Підготовка та аналіз даних\n",
    "Лабораторна робота №2\n",
    "ФБ-25 Кравченко Максим"
   ],
   "metadata": {
    "collapsed": false
   },
   "id": "fc14e381c5c48f75"
  },
  {
   "cell_type": "markdown",
   "source": [
    "Імпортуємо потрібні нам бібліотеки"
   ],
   "metadata": {
    "collapsed": false
   },
   "id": "4f68980069867b2e"
  },
  {
   "cell_type": "code",
   "outputs": [],
   "source": [
    "import datetime\n",
    "import requests\n",
    "import urllib.request\n",
    "import pandas as pd\n",
    "import os\n"
   ],
   "metadata": {
    "collapsed": false,
    "ExecuteTime": {
     "end_time": "2024-03-26T21:33:52.669039Z",
     "start_time": "2024-03-26T21:33:52.664827Z"
    }
   },
   "id": "de0396122080d568",
   "execution_count": 3
  },
  {
   "cell_type": "markdown",
   "source": [
    "Скачуємо VHI індекси для всіх областей\n",
    "Також додаємо в назву дату та час скачування"
   ],
   "metadata": {
    "collapsed": false
   },
   "id": "cf675c92d0a4a1c"
  },
  {
   "cell_type": "code",
   "outputs": [
    {
     "name": "stdout",
     "output_type": "stream",
     "text": [
      "VHI from id 1 was downloaded at 2024-03-26_23-33-56\n",
      "VHI from id 2 was downloaded at 2024-03-26_23-33-58\n",
      "VHI from id 3 was downloaded at 2024-03-26_23-34-01\n",
      "VHI from id 4 was downloaded at 2024-03-26_23-34-04\n",
      "VHI from id 5 was downloaded at 2024-03-26_23-34-06\n",
      "VHI from id 6 was downloaded at 2024-03-26_23-34-09\n",
      "VHI from id 7 was downloaded at 2024-03-26_23-34-11\n",
      "VHI from id 8 was downloaded at 2024-03-26_23-34-13\n",
      "VHI from id 9 was downloaded at 2024-03-26_23-34-16\n",
      "VHI from id 10 was downloaded at 2024-03-26_23-34-18\n",
      "VHI from id 11 was downloaded at 2024-03-26_23-34-20\n",
      "VHI from id 12 was downloaded at 2024-03-26_23-34-23\n",
      "VHI from id 13 was downloaded at 2024-03-26_23-34-25\n",
      "VHI from id 14 was downloaded at 2024-03-26_23-34-28\n",
      "VHI from id 15 was downloaded at 2024-03-26_23-34-30\n",
      "VHI from id 16 was downloaded at 2024-03-26_23-34-33\n",
      "VHI from id 17 was downloaded at 2024-03-26_23-34-35\n",
      "VHI from id 18 was downloaded at 2024-03-26_23-34-38\n",
      "VHI from id 19 was downloaded at 2024-03-26_23-34-40\n",
      "VHI from id 20 was downloaded at 2024-03-26_23-34-43\n",
      "VHI from id 21 was downloaded at 2024-03-26_23-34-46\n",
      "VHI from id 22 was downloaded at 2024-03-26_23-34-48\n",
      "VHI from id 23 was downloaded at 2024-03-26_23-34-51\n",
      "VHI from id 24 was downloaded at 2024-03-26_23-34-53\n",
      "VHI from id 25 was downloaded at 2024-03-26_23-34-58\n",
      "VHI from id 26 was downloaded at 2024-03-26_23-35-00\n",
      "VHI from id 27 was downloaded at 2024-03-26_23-35-03\n"
     ]
    }
   ],
   "source": [
    "for ids in range(0, 27):\n",
    "    ids += 1\n",
    "    url = f\"https://www.star.nesdis.noaa.gov/smcd/emb/vci/VH/get_TS_admin.php?country=UKR&provinceID={ids}&year1=1981&year2=2024&type=Mean\"\n",
    "    response = requests.get(url)\n",
    "    if response.status_code == 200:\n",
    "        date_now = datetime.datetime.now().strftime(\"%Y-%m-%d_%H-%M-%S\")\n",
    "        vhi_url = urllib.request.urlopen(url)\n",
    "        file_name = f'vhi/vhi_id_{ids}_{date_now}.csv'\n",
    "        out = open(file_name, 'wb')\n",
    "        out.write(vhi_url.read())\n",
    "        out.close()\n",
    "        print(f\"VHI from id {ids} was downloaded at {date_now}\")\n",
    "    else:\n",
    "        print(f\"Download complete\")\n",
    "        break"
   ],
   "metadata": {
    "collapsed": false,
    "ExecuteTime": {
     "end_time": "2024-03-26T21:35:04.069918Z",
     "start_time": "2024-03-26T21:33:52.754814Z"
    }
   },
   "id": "8dbd24892bd7d25f",
   "execution_count": 4
  },
  {
   "cell_type": "markdown",
   "source": [
    "Даємо імена стовбцям, зчитуємо файли у фрейм"
   ],
   "metadata": {
    "collapsed": false
   },
   "id": "80489f43036ad07f"
  },
  {
   "cell_type": "code",
   "outputs": [],
   "source": [
    "folder = 'vhi'\n",
    "files = os.listdir(folder)\n",
    "ids = 0\n",
    "df_all = pd.DataFrame()\n",
    "\n",
    "for file_name in files:\n",
    "    ids += 1\n",
    "    headers = ['Year', 'Week', 'SMN', 'SMT', 'VCI', 'TCI', 'VHI', 'empty']\n",
    "    df = pd.read_csv(f'{folder}/{file_name}', header=1, names=headers, skiprows=1)[:-1]\n",
    "    df = df.drop(df.loc[df['VHI'] == -1].index)\n",
    "    df['area'] = ids\n",
    "    # print(df.head(), '\\n')\n",
    "    df_all = pd.concat([df_all, df], ignore_index=True)\n",
    "\n",
    "# print(df_all, '\\n')"
   ],
   "metadata": {
    "collapsed": false,
    "ExecuteTime": {
     "end_time": "2024-03-26T21:35:04.320722Z",
     "start_time": "2024-03-26T21:35:04.070920Z"
    }
   },
   "id": "db482e126477ec7f",
   "execution_count": 5
  },
  {
   "cell_type": "markdown",
   "source": [
    "Змінимо індекси областей"
   ],
   "metadata": {
    "collapsed": false
   },
   "id": "42b687c4180eeb1"
  },
  {
   "cell_type": "code",
   "outputs": [
    {
     "name": "stdout",
     "output_type": "stream",
     "text": [
      "       Year  Week    SMN     SMT    VCI    TCI    VHI  empty  area\n",
      "0      1982   2.0  0.063  261.53  55.89  38.20  47.04    NaN    22\n",
      "1      1982   3.0  0.063  263.45  57.30  32.69  44.99    NaN    22\n",
      "2      1982   4.0  0.061  265.10  53.96  28.62  41.29    NaN    22\n",
      "3      1982   5.0  0.058  266.42  46.87  28.57  37.72    NaN    22\n",
      "4      1982   6.0  0.056  267.47  39.55  30.27  34.91    NaN    22\n",
      "...     ...   ...    ...     ...    ...    ...    ...    ...   ...\n",
      "57910  2024   8.0  0.134  281.83  62.33   3.92  33.13    NaN     5\n",
      "57911  2024   9.0  0.147  283.80  61.79   4.57  33.18    NaN     5\n",
      "57912  2024  10.0  0.158  285.63  59.96   6.30  33.13    NaN     5\n",
      "57913  2024  11.0  0.164  286.56  56.53   9.83  33.18    NaN     5\n",
      "57914  2024  12.0  0.175  287.65  55.86  13.89  34.87    NaN     5\n",
      "\n",
      "[57915 rows x 9 columns]\n"
     ]
    }
   ],
   "source": [
    "dict_areas = {1: 22, 2: 24, 3: 23, 4: 25, 5: 3, 6: 4, 7: 8, 8: 19, 9: 20, 10: 21, 11: 9, 13: 10, 14: 11, 15: 12,\n",
    "              16: 13, 17: 15, 18: 14, 19: 16, 21: 17, 22: 18, 23: 6, 24: 1, 25: 2, 26: 7, 27: 5}\n",
    "df_all[\"area\"] = df_all[\"area\"].replace(dict_areas)\n",
    "df_all.to_csv(f'vhi/df_all.csv', index=False)\n",
    "\n",
    "print(df_all)"
   ],
   "metadata": {
    "collapsed": false,
    "ExecuteTime": {
     "end_time": "2024-03-26T21:35:04.660729Z",
     "start_time": "2024-03-26T21:35:04.323719Z"
    }
   },
   "id": "2b145b37d7eb786a",
   "execution_count": 6
  },
  {
   "cell_type": "markdown",
   "source": [
    "Ряд VHI для області за вказаний рік, пошук екстремумів (min та max);"
   ],
   "metadata": {
    "collapsed": false
   },
   "id": "632a3adc656dbfd6"
  },
  {
   "cell_type": "code",
   "outputs": [],
   "source": [
    "def vhi(area, year):\n",
    "    return df_all[(df_all[\"area\"] == area) & (df_all[\"Year\"] == year)]['VHI']\n",
    "\n",
    "def vhi_min(area, year):\n",
    "    return df_all[(df_all[\"area\"] == area) & (df_all[\"Year\"] == year)]['VHI'].min()\n",
    "\n",
    "def vhi_max(area, year):\n",
    "    return df_all[(df_all[\"area\"] == area) & (df_all[\"Year\"] == year)]['VHI'].max()\n",
    "\n",
    "df_all['Year'] = df_all['Year'].astype(int)"
   ],
   "metadata": {
    "collapsed": false,
    "ExecuteTime": {
     "end_time": "2024-03-26T21:35:04.671221Z",
     "start_time": "2024-03-26T21:35:04.662727Z"
    }
   },
   "id": "9dbad0af5f294086",
   "execution_count": 7
  },
  {
   "cell_type": "code",
   "outputs": [
    {
     "data": {
      "text/plain": "57695    45.94\n57696    45.28\n57697    44.67\n57698    44.62\n57699    44.56\n57700    44.91\n57701    44.90\n57702    45.07\n57703    45.25\n57704    45.00\n57705    44.59\n57706    45.10\n57707    46.75\n57708    48.09\n57709    49.77\n57710    52.60\n57711    55.69\n57712    57.93\n57713    61.80\n57714    63.49\n57715    62.18\n57716    59.98\n57717    57.35\n57718    53.68\n57719    50.56\n57720    47.67\n57721    45.29\n57722    43.91\n57723    42.69\n57724    41.22\n57725    39.86\n57726    37.98\n57727    35.40\n57728    32.74\n57729    29.58\n57730    25.81\n57731    24.49\n57732    25.05\n57733    27.68\n57734    32.59\n57735    35.98\n57736    36.08\n57737    36.82\n57738    35.40\n57739    35.94\n57740    37.39\n57741    39.34\n57742    41.37\n57743    42.55\n57744    42.43\n57745    43.19\n57746    44.57\nName: VHI, dtype: float64"
     },
     "execution_count": 8,
     "metadata": {},
     "output_type": "execute_result"
    }
   ],
   "source": [
    "vhi(5, 2020)"
   ],
   "metadata": {
    "collapsed": false,
    "ExecuteTime": {
     "end_time": "2024-03-26T21:35:04.686404Z",
     "start_time": "2024-03-26T21:35:04.672222Z"
    }
   },
   "id": "5c67ef44cb95dba5",
   "execution_count": 8
  },
  {
   "cell_type": "code",
   "outputs": [
    {
     "data": {
      "text/plain": "28.47"
     },
     "execution_count": 9,
     "metadata": {},
     "output_type": "execute_result"
    }
   ],
   "source": [
    "vhi_min(5, 2005)"
   ],
   "metadata": {
    "collapsed": false,
    "ExecuteTime": {
     "end_time": "2024-03-26T21:35:04.696136Z",
     "start_time": "2024-03-26T21:35:04.687406Z"
    }
   },
   "id": "c2bb5911b9baf5ff",
   "execution_count": 9
  },
  {
   "cell_type": "code",
   "outputs": [
    {
     "data": {
      "text/plain": "67.33"
     },
     "execution_count": 10,
     "metadata": {},
     "output_type": "execute_result"
    }
   ],
   "source": [
    "vhi_max(5, 2005)"
   ],
   "metadata": {
    "collapsed": false,
    "ExecuteTime": {
     "end_time": "2024-03-26T21:35:04.704780Z",
     "start_time": "2024-03-26T21:35:04.698136Z"
    }
   },
   "id": "351177b371823c66",
   "execution_count": 10
  },
  {
   "cell_type": "markdown",
   "source": [
    "Ряд VHI за вказаний діапазон років для вказаних областей;"
   ],
   "metadata": {
    "collapsed": false
   },
   "id": "6c4fa7f1dc1034"
  },
  {
   "cell_type": "code",
   "outputs": [],
   "source": [
    "def vhi_range(year_min, year_max, areas):\n",
    "    if not isinstance(areas, list) or not areas:\n",
    "        return print('Empty or not a list')\n",
    "    return df_all[(df_all['Year'] >= year_min) & (df_all['Year'] <= year_max) & (df_all['area'].isin(areas))][['Year', 'VHI', 'area']]"
   ],
   "metadata": {
    "collapsed": false,
    "ExecuteTime": {
     "end_time": "2024-03-26T21:35:04.711263Z",
     "start_time": "2024-03-26T21:35:04.705782Z"
    }
   },
   "id": "d6330356711067b2",
   "execution_count": 11
  },
  {
   "cell_type": "code",
   "outputs": [
    {
     "data": {
      "text/plain": "       Year    VHI  area\n9381   1998  48.42     3\n9382   1998  45.60     3\n9383   1998  43.56     3\n9384   1998  42.32     3\n9385   1998  41.53     3\n...     ...    ...   ...\n52672  2005  49.13     2\n52673  2005  48.69     2\n52674  2005  47.39     2\n52675  2005  47.00     2\n52676  2005  46.53     2\n\n[1188 rows x 3 columns]",
      "text/html": "<div>\n<style scoped>\n    .dataframe tbody tr th:only-of-type {\n        vertical-align: middle;\n    }\n\n    .dataframe tbody tr th {\n        vertical-align: top;\n    }\n\n    .dataframe thead th {\n        text-align: right;\n    }\n</style>\n<table border=\"1\" class=\"dataframe\">\n  <thead>\n    <tr style=\"text-align: right;\">\n      <th></th>\n      <th>Year</th>\n      <th>VHI</th>\n      <th>area</th>\n    </tr>\n  </thead>\n  <tbody>\n    <tr>\n      <th>9381</th>\n      <td>1998</td>\n      <td>48.42</td>\n      <td>3</td>\n    </tr>\n    <tr>\n      <th>9382</th>\n      <td>1998</td>\n      <td>45.60</td>\n      <td>3</td>\n    </tr>\n    <tr>\n      <th>9383</th>\n      <td>1998</td>\n      <td>43.56</td>\n      <td>3</td>\n    </tr>\n    <tr>\n      <th>9384</th>\n      <td>1998</td>\n      <td>42.32</td>\n      <td>3</td>\n    </tr>\n    <tr>\n      <th>9385</th>\n      <td>1998</td>\n      <td>41.53</td>\n      <td>3</td>\n    </tr>\n    <tr>\n      <th>...</th>\n      <td>...</td>\n      <td>...</td>\n      <td>...</td>\n    </tr>\n    <tr>\n      <th>52672</th>\n      <td>2005</td>\n      <td>49.13</td>\n      <td>2</td>\n    </tr>\n    <tr>\n      <th>52673</th>\n      <td>2005</td>\n      <td>48.69</td>\n      <td>2</td>\n    </tr>\n    <tr>\n      <th>52674</th>\n      <td>2005</td>\n      <td>47.39</td>\n      <td>2</td>\n    </tr>\n    <tr>\n      <th>52675</th>\n      <td>2005</td>\n      <td>47.00</td>\n      <td>2</td>\n    </tr>\n    <tr>\n      <th>52676</th>\n      <td>2005</td>\n      <td>46.53</td>\n      <td>2</td>\n    </tr>\n  </tbody>\n</table>\n<p>1188 rows × 3 columns</p>\n</div>"
     },
     "execution_count": 12,
     "metadata": {},
     "output_type": "execute_result"
    }
   ],
   "source": [
    "vhi_range(1998, 2005, [1, 2, 3])"
   ],
   "metadata": {
    "collapsed": false,
    "ExecuteTime": {
     "end_time": "2024-03-26T21:35:04.737649Z",
     "start_time": "2024-03-26T21:35:04.712266Z"
    }
   },
   "id": "8f030efeac64dc00",
   "execution_count": 12
  },
  {
   "cell_type": "markdown",
   "source": [
    "Роки, протягом яких екстремальні посухи торкнулися більше вказаного відсотка областей"
   ],
   "metadata": {
    "collapsed": false
   },
   "id": "966b2871126f482f"
  },
  {
   "cell_type": "code",
   "outputs": [],
   "source": [
    "def extreme_droughts(procent):\n",
    "    df_drouhts = df_all[(df_all['VHI'] <= 20) & (df_all['VHI'] != -1)]\n",
    "    grouped = df_drouhts.groupby('Year')['area'].nunique()\n",
    "    result = grouped[grouped > (25 * procent / 100)].reset_index()\n",
    "    return result"
   ],
   "metadata": {
    "collapsed": false,
    "ExecuteTime": {
     "end_time": "2024-03-26T23:52:48.902983Z",
     "start_time": "2024-03-26T23:52:48.897886Z"
    }
   },
   "id": "7f3324f43b066dff",
   "execution_count": 23
  },
  {
   "cell_type": "code",
   "outputs": [
    {
     "data": {
      "text/plain": "   Year  area\n0  1986     8\n1  1993    10\n2  2000    16\n3  2007     7",
      "text/html": "<div>\n<style scoped>\n    .dataframe tbody tr th:only-of-type {\n        vertical-align: middle;\n    }\n\n    .dataframe tbody tr th {\n        vertical-align: top;\n    }\n\n    .dataframe thead th {\n        text-align: right;\n    }\n</style>\n<table border=\"1\" class=\"dataframe\">\n  <thead>\n    <tr style=\"text-align: right;\">\n      <th></th>\n      <th>Year</th>\n      <th>area</th>\n    </tr>\n  </thead>\n  <tbody>\n    <tr>\n      <th>0</th>\n      <td>1986</td>\n      <td>8</td>\n    </tr>\n    <tr>\n      <th>1</th>\n      <td>1993</td>\n      <td>10</td>\n    </tr>\n    <tr>\n      <th>2</th>\n      <td>2000</td>\n      <td>16</td>\n    </tr>\n    <tr>\n      <th>3</th>\n      <td>2007</td>\n      <td>7</td>\n    </tr>\n  </tbody>\n</table>\n</div>"
     },
     "execution_count": 24,
     "metadata": {},
     "output_type": "execute_result"
    }
   ],
   "source": [
    "extreme_droughts(20)"
   ],
   "metadata": {
    "collapsed": false,
    "ExecuteTime": {
     "end_time": "2024-03-26T23:52:51.219047Z",
     "start_time": "2024-03-26T23:52:51.208922Z"
    }
   },
   "id": "c1611615e5754f8f",
   "execution_count": 24
  },
  {
   "cell_type": "markdown",
   "source": [
    "Аналогічно для помірних посух"
   ],
   "metadata": {
    "collapsed": false
   },
   "id": "74fd3bb1c45a12f7"
  },
  {
   "cell_type": "code",
   "outputs": [],
   "source": [
    "def moderate_droughts(procent):\n",
    "    df_drouhts = df_all[(df_all['VHI'] >= 30) & (df_all['VHI'] <= 55) & (df_all['VHI'] != -1)]\n",
    "    grouped = df_drouhts.groupby('Year')['area'].nunique()\n",
    "    result = grouped[grouped > (25 * procent / 100)].reset_index()\n",
    "    return result"
   ],
   "metadata": {
    "collapsed": false,
    "ExecuteTime": {
     "end_time": "2024-03-26T23:54:37.397764Z",
     "start_time": "2024-03-26T23:54:37.392775Z"
    }
   },
   "id": "f4ad8b2ed29bf275",
   "execution_count": 27
  },
  {
   "cell_type": "code",
   "outputs": [
    {
     "data": {
      "text/plain": "    Year  area\n0   1982    25\n1   1983    25\n2   1984    25\n3   1985    25\n4   1986    25\n5   1987    25\n6   1988    25\n7   1989    25\n8   1990    25\n9   1991    25\n10  1992    25\n11  1993    25\n12  1994    25\n13  1995    25\n14  1996    25\n15  1997    25\n16  1998    25\n17  1999    25\n18  2000    25\n19  2001    25\n20  2002    25\n21  2003    25\n22  2004    25\n23  2005    25\n24  2006    25\n25  2007    25\n26  2008    25\n27  2009    25\n28  2010    25\n29  2011    25\n30  2012    25\n31  2013    25\n32  2014    25\n33  2015    25\n34  2016    25\n35  2017    25\n36  2018    25\n37  2019    25\n38  2020    25\n39  2021    25\n40  2022    25\n41  2023    25\n42  2024    25",
      "text/html": "<div>\n<style scoped>\n    .dataframe tbody tr th:only-of-type {\n        vertical-align: middle;\n    }\n\n    .dataframe tbody tr th {\n        vertical-align: top;\n    }\n\n    .dataframe thead th {\n        text-align: right;\n    }\n</style>\n<table border=\"1\" class=\"dataframe\">\n  <thead>\n    <tr style=\"text-align: right;\">\n      <th></th>\n      <th>Year</th>\n      <th>area</th>\n    </tr>\n  </thead>\n  <tbody>\n    <tr>\n      <th>0</th>\n      <td>1982</td>\n      <td>25</td>\n    </tr>\n    <tr>\n      <th>1</th>\n      <td>1983</td>\n      <td>25</td>\n    </tr>\n    <tr>\n      <th>2</th>\n      <td>1984</td>\n      <td>25</td>\n    </tr>\n    <tr>\n      <th>3</th>\n      <td>1985</td>\n      <td>25</td>\n    </tr>\n    <tr>\n      <th>4</th>\n      <td>1986</td>\n      <td>25</td>\n    </tr>\n    <tr>\n      <th>5</th>\n      <td>1987</td>\n      <td>25</td>\n    </tr>\n    <tr>\n      <th>6</th>\n      <td>1988</td>\n      <td>25</td>\n    </tr>\n    <tr>\n      <th>7</th>\n      <td>1989</td>\n      <td>25</td>\n    </tr>\n    <tr>\n      <th>8</th>\n      <td>1990</td>\n      <td>25</td>\n    </tr>\n    <tr>\n      <th>9</th>\n      <td>1991</td>\n      <td>25</td>\n    </tr>\n    <tr>\n      <th>10</th>\n      <td>1992</td>\n      <td>25</td>\n    </tr>\n    <tr>\n      <th>11</th>\n      <td>1993</td>\n      <td>25</td>\n    </tr>\n    <tr>\n      <th>12</th>\n      <td>1994</td>\n      <td>25</td>\n    </tr>\n    <tr>\n      <th>13</th>\n      <td>1995</td>\n      <td>25</td>\n    </tr>\n    <tr>\n      <th>14</th>\n      <td>1996</td>\n      <td>25</td>\n    </tr>\n    <tr>\n      <th>15</th>\n      <td>1997</td>\n      <td>25</td>\n    </tr>\n    <tr>\n      <th>16</th>\n      <td>1998</td>\n      <td>25</td>\n    </tr>\n    <tr>\n      <th>17</th>\n      <td>1999</td>\n      <td>25</td>\n    </tr>\n    <tr>\n      <th>18</th>\n      <td>2000</td>\n      <td>25</td>\n    </tr>\n    <tr>\n      <th>19</th>\n      <td>2001</td>\n      <td>25</td>\n    </tr>\n    <tr>\n      <th>20</th>\n      <td>2002</td>\n      <td>25</td>\n    </tr>\n    <tr>\n      <th>21</th>\n      <td>2003</td>\n      <td>25</td>\n    </tr>\n    <tr>\n      <th>22</th>\n      <td>2004</td>\n      <td>25</td>\n    </tr>\n    <tr>\n      <th>23</th>\n      <td>2005</td>\n      <td>25</td>\n    </tr>\n    <tr>\n      <th>24</th>\n      <td>2006</td>\n      <td>25</td>\n    </tr>\n    <tr>\n      <th>25</th>\n      <td>2007</td>\n      <td>25</td>\n    </tr>\n    <tr>\n      <th>26</th>\n      <td>2008</td>\n      <td>25</td>\n    </tr>\n    <tr>\n      <th>27</th>\n      <td>2009</td>\n      <td>25</td>\n    </tr>\n    <tr>\n      <th>28</th>\n      <td>2010</td>\n      <td>25</td>\n    </tr>\n    <tr>\n      <th>29</th>\n      <td>2011</td>\n      <td>25</td>\n    </tr>\n    <tr>\n      <th>30</th>\n      <td>2012</td>\n      <td>25</td>\n    </tr>\n    <tr>\n      <th>31</th>\n      <td>2013</td>\n      <td>25</td>\n    </tr>\n    <tr>\n      <th>32</th>\n      <td>2014</td>\n      <td>25</td>\n    </tr>\n    <tr>\n      <th>33</th>\n      <td>2015</td>\n      <td>25</td>\n    </tr>\n    <tr>\n      <th>34</th>\n      <td>2016</td>\n      <td>25</td>\n    </tr>\n    <tr>\n      <th>35</th>\n      <td>2017</td>\n      <td>25</td>\n    </tr>\n    <tr>\n      <th>36</th>\n      <td>2018</td>\n      <td>25</td>\n    </tr>\n    <tr>\n      <th>37</th>\n      <td>2019</td>\n      <td>25</td>\n    </tr>\n    <tr>\n      <th>38</th>\n      <td>2020</td>\n      <td>25</td>\n    </tr>\n    <tr>\n      <th>39</th>\n      <td>2021</td>\n      <td>25</td>\n    </tr>\n    <tr>\n      <th>40</th>\n      <td>2022</td>\n      <td>25</td>\n    </tr>\n    <tr>\n      <th>41</th>\n      <td>2023</td>\n      <td>25</td>\n    </tr>\n    <tr>\n      <th>42</th>\n      <td>2024</td>\n      <td>25</td>\n    </tr>\n  </tbody>\n</table>\n</div>"
     },
     "execution_count": 28,
     "metadata": {},
     "output_type": "execute_result"
    }
   ],
   "source": [
    "moderate_droughts(20)"
   ],
   "metadata": {
    "collapsed": false,
    "ExecuteTime": {
     "end_time": "2024-03-26T23:54:39.050656Z",
     "start_time": "2024-03-26T23:54:39.020535Z"
    }
   },
   "id": "13ae1a171ce9927b",
   "execution_count": 28
  },
  {
   "cell_type": "code",
   "outputs": [],
   "source": [],
   "metadata": {
    "collapsed": false
   },
   "id": "3dc0ae4bba2a2e6e"
  }
 ],
 "metadata": {
  "kernelspec": {
   "display_name": "Python 3",
   "language": "python",
   "name": "python3"
  },
  "language_info": {
   "codemirror_mode": {
    "name": "ipython",
    "version": 2
   },
   "file_extension": ".py",
   "mimetype": "text/x-python",
   "name": "python",
   "nbconvert_exporter": "python",
   "pygments_lexer": "ipython2",
   "version": "2.7.6"
  }
 },
 "nbformat": 4,
 "nbformat_minor": 5
}
