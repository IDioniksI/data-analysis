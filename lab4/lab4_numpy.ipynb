{
 "cells": [
  {
   "cell_type": "markdown",
   "id": "fab24c7152ef70e0",
   "metadata": {},
   "source": [
    "## <center>Підготовка та аналіз даних</center>\n",
    "## <center>Лабораторна робота №4 (1 частина)</center>\n",
    "#### <center>ФБ-25 Кравченко Максим</center>"
   ]
  },
  {
   "cell_type": "code",
   "execution_count": 1,
   "id": "d29c9cf5287324b7",
   "metadata": {
    "ExecuteTime": {
     "end_time": "2024-04-19T21:44:48.548583Z",
     "start_time": "2024-04-19T21:44:48.545355Z"
    }
   },
   "outputs": [],
   "source": [
    "import numpy as np\n",
    "import timeit\n",
    "from datetime import datetime"
   ]
  },
  {
   "cell_type": "markdown",
   "id": "e8c0c8cfd5a0cd1f",
   "metadata": {},
   "source": [
    "# Перший рівень"
   ]
  },
  {
   "cell_type": "markdown",
   "id": "be25b7d8d0526c07",
   "metadata": {},
   "source": [
    "Завантажую дані, щоб переглянути, з чим я буду працювати, друкую перші 5 стрічок"
   ]
  },
  {
   "cell_type": "code",
   "execution_count": 2,
   "id": "initial_id",
   "metadata": {
    "ExecuteTime": {
     "end_time": "2024-04-19T21:32:56.093703Z",
     "start_time": "2024-04-19T21:32:56.087716Z"
    }
   },
   "outputs": [
    {
     "name": "stdout",
     "output_type": "stream",
     "text": [
      "Date;Time;Global_active_power;Global_reactive_power;Voltage;Global_intensity;Sub_metering_1;Sub_metering_2;Sub_metering_3\n",
      "\n",
      "16/12/2006;17:24:00;4.216;0.418;234.840;18.400;0.000;1.000;17.000\n",
      "\n",
      "16/12/2006;17:25:00;5.360;0.436;233.630;23.000;0.000;1.000;16.000\n",
      "\n",
      "16/12/2006;17:26:00;5.374;0.498;233.290;23.000;0.000;2.000;17.000\n",
      "\n",
      "16/12/2006;17:27:00;5.388;0.502;233.740;23.000;0.000;1.000;17.000\n",
      "\n",
      "16/12/2006;17:28:00;3.666;0.528;235.680;15.800;0.000;1.000;17.000\n",
      "\n"
     ]
    }
   ],
   "source": [
    "file_name = r'Datasets\\household_power_consumption.txt'\n",
    "with open(file_name, 'r') as file:\n",
    "    first_line = file.readline()\n",
    "    print(first_line)\n",
    "    for i in range(5):\n",
    "        line = file.readline()\n",
    "        if line:\n",
    "            print(line)\n",
    "        else:\n",
    "            break"
   ]
  },
  {
   "cell_type": "markdown",
   "id": "7a29538f1f2ea239",
   "metadata": {},
   "source": [
    "Читаємо датасет, формуємо масив"
   ]
  },
  {
   "cell_type": "code",
   "execution_count": 3,
   "id": "6f6521a36c3aff64",
   "metadata": {
    "ExecuteTime": {
     "end_time": "2024-04-19T21:33:18.601365Z",
     "start_time": "2024-04-19T21:32:56.757942Z"
    }
   },
   "outputs": [
    {
     "name": "stdout",
     "output_type": "stream",
     "text": [
      "[('16/12/2006', '17:24:00', '4.216', '0.418', '234.840', '18.400', '0.000', '1.000', 17.)\n",
      " ('16/12/2006', '17:25:00', '5.360', '0.436', '233.630', '23.000', '0.000', '1.000', 16.)\n",
      " ('16/12/2006', '17:26:00', '5.374', '0.498', '233.290', '23.000', '0.000', '2.000', 17.)\n",
      " ...\n",
      " ('26/11/2010', '21:00:00', '0.938', '0.000', '239.820', '3.800', '0.000', '0.000',  0.)\n",
      " ('26/11/2010', '21:01:00', '0.934', '0.000', '239.700', '3.800', '0.000', '0.000',  0.)\n",
      " ('26/11/2010', '21:02:00', '0.932', '0.000', '239.550', '3.800', '0.000', '0.000',  0.)]\n"
     ]
    }
   ],
   "source": [
    "data_array = np.genfromtxt(file_name, delimiter=';', skip_header=1, dtype=None, encoding=None)\n",
    "\n",
    "print(data_array)"
   ]
  },
  {
   "cell_type": "markdown",
   "id": "79107eb6e1d77385",
   "metadata": {},
   "source": [
    "Видаляю пусті значення, а також \"?\""
   ]
  },
  {
   "cell_type": "code",
   "execution_count": 4,
   "id": "19aa0eabfcd7bf9e",
   "metadata": {
    "ExecuteTime": {
     "end_time": "2024-04-19T21:33:18.607592Z",
     "start_time": "2024-04-19T21:33:18.602361Z"
    }
   },
   "outputs": [],
   "source": [
    "def check_missing_values(data_array):\n",
    "    string_data_array = np.array([tuple(str(item) for item in row) for row in data_array])\n",
    "    has_question_mark = np.any(string_data_array == '?')\n",
    "\n",
    "    if has_question_mark:\n",
    "        print(\"There are '?' values in the array\")\n",
    "    else:\n",
    "        print(\"There are no '?' values in the array\")"
   ]
  },
  {
   "cell_type": "markdown",
   "id": "b18974172c6bdf0b",
   "metadata": {},
   "source": [
    "Перетворюю масив у стрічковий формат, щоб видалити пусті значення\n",
    "Перевіряю чи є None або \"?\" в датасеті, також дивлюсь типи даних"
   ]
  },
  {
   "cell_type": "code",
   "execution_count": 5,
   "id": "e512a80373addf8b",
   "metadata": {
    "ExecuteTime": {
     "end_time": "2024-04-19T21:33:50.200606Z",
     "start_time": "2024-04-19T21:33:18.608582Z"
    }
   },
   "outputs": [
    {
     "name": "stdout",
     "output_type": "stream",
     "text": [
      "There are '?' values in the array\n"
     ]
    }
   ],
   "source": [
    "string_data_array = np.array([tuple(str(item) for item in row) for row in data_array])\n",
    "\n",
    "check_missing_values(string_data_array)"
   ]
  },
  {
   "cell_type": "code",
   "execution_count": 6,
   "id": "f939c1bc01dd9503",
   "metadata": {
    "ExecuteTime": {
     "end_time": "2024-04-19T21:33:50.669063Z",
     "start_time": "2024-04-19T21:33:50.201602Z"
    }
   },
   "outputs": [
    {
     "name": "stdout",
     "output_type": "stream",
     "text": [
      "[['16/12/2006' '17:24:00' '4.216' ... '0.000' '1.000' '17.0']\n",
      " ['16/12/2006' '17:25:00' '5.360' ... '0.000' '1.000' '16.0']\n",
      " ['16/12/2006' '17:26:00' '5.374' ... '0.000' '2.000' '17.0']\n",
      " ...\n",
      " ['26/11/2010' '21:00:00' '0.938' ... '0.000' '0.000' '0.0']\n",
      " ['26/11/2010' '21:01:00' '0.934' ... '0.000' '0.000' '0.0']\n",
      " ['26/11/2010' '21:02:00' '0.932' ... '0.000' '0.000' '0.0']]\n"
     ]
    }
   ],
   "source": [
    "mask = np.all((string_data_array != '?') & (string_data_array != 'nan'), axis=1)\n",
    "\n",
    "# Застосовуємо маску до нашого масиву\n",
    "cleaned_data_array = string_data_array[mask]\n",
    "\n",
    "print(cleaned_data_array)"
   ]
  },
  {
   "cell_type": "markdown",
   "id": "55190cf67507810d",
   "metadata": {},
   "source": [
    "Перевіряю чи є None або \"?\" в датасеті, також дивлюсь типи даних"
   ]
  },
  {
   "cell_type": "code",
   "execution_count": 7,
   "id": "a332b9d9f40083d7",
   "metadata": {
    "ExecuteTime": {
     "end_time": "2024-04-19T21:34:03.694132Z",
     "start_time": "2024-04-19T21:33:50.670059Z"
    }
   },
   "outputs": [
    {
     "name": "stdout",
     "output_type": "stream",
     "text": [
      "There are no '?' values in the array\n"
     ]
    }
   ],
   "source": [
    "check_missing_values(cleaned_data_array)"
   ]
  },
  {
   "cell_type": "markdown",
   "id": "e9f41e6251ab89e4",
   "metadata": {},
   "source": [
    "## Завдання 1\n",
    "1. Обрати всі домогосподарства, у яких загальна активна споживана \n",
    "потужність перевищує 5 кВт."
   ]
  },
  {
   "cell_type": "markdown",
   "id": "d5693aa79bd30f0e",
   "metadata": {},
   "source": [
    "Перетворюю числа назад у float"
   ]
  },
  {
   "cell_type": "code",
   "execution_count": 8,
   "id": "21798776976a8ad1",
   "metadata": {
    "ExecuteTime": {
     "end_time": "2024-04-19T21:34:11.815656Z",
     "start_time": "2024-04-19T21:34:03.696122Z"
    }
   },
   "outputs": [
    {
     "name": "stdout",
     "output_type": "stream",
     "text": [
      "[['16/12/2006' '17:24:00' '4.216' ... '0.0' '1.0' '17.0']\n",
      " ['16/12/2006' '17:25:00' '5.36' ... '0.0' '1.0' '16.0']\n",
      " ['16/12/2006' '17:26:00' '5.374' ... '0.0' '2.0' '17.0']\n",
      " ...\n",
      " ['26/11/2010' '21:00:00' '0.938' ... '0.0' '0.0' '0.0']\n",
      " ['26/11/2010' '21:01:00' '0.934' ... '0.0' '0.0' '0.0']\n",
      " ['26/11/2010' '21:02:00' '0.932' ... '0.0' '0.0' '0.0']]\n"
     ]
    }
   ],
   "source": [
    "float_cols = cleaned_data_array[:, 2:8].astype(float)\n",
    "cleaned_data_array = np.hstack((cleaned_data_array[:, :2], float_cols, cleaned_data_array[:, 8:]))\n",
    "\n",
    "print(cleaned_data_array)"
   ]
  },
  {
   "cell_type": "code",
   "execution_count": 9,
   "id": "21d4e3ed2447fbff",
   "metadata": {
    "ExecuteTime": {
     "end_time": "2024-04-19T21:34:12.739879Z",
     "start_time": "2024-04-19T21:34:11.816621Z"
    }
   },
   "outputs": [
    {
     "name": "stdout",
     "output_type": "stream",
     "text": [
      "[['16/12/2006' '17:25:00' '5.36' ... '0.0' '1.0' '16.0']\n",
      " ['16/12/2006' '17:26:00' '5.374' ... '0.0' '2.0' '17.0']\n",
      " ['16/12/2006' '17:27:00' '5.388' ... '0.0' '1.0' '17.0']\n",
      " ...\n",
      " ['24/11/2010' '07:50:00' '5.172' ... '0.0' '38.0' '17.0']\n",
      " ['24/11/2010' '07:51:00' '5.75' ... '0.0' '39.0' '17.0']\n",
      " ['25/11/2010' '07:21:00' '5.074' ... '1.0' '2.0' '18.0']]\n"
     ]
    }
   ],
   "source": [
    "mask = cleaned_data_array[:, 2].astype(float) > 5\n",
    "\n",
    "selected_rows = cleaned_data_array[mask]\n",
    "print(selected_rows)"
   ]
  },
  {
   "cell_type": "markdown",
   "id": "94fcabc00f78218a",
   "metadata": {},
   "source": [
    "## Завдання 2\n",
    "2. Обрати всі домогосподарства, у яких вольтаж перевищує 235 В."
   ]
  },
  {
   "cell_type": "code",
   "execution_count": 10,
   "id": "5daa555a5d8e7a0f",
   "metadata": {
    "ExecuteTime": {
     "end_time": "2024-04-19T21:34:14.366429Z",
     "start_time": "2024-04-19T21:34:12.740873Z"
    }
   },
   "outputs": [
    {
     "name": "stdout",
     "output_type": "stream",
     "text": [
      "[['16/12/2006' '17:28:00' '3.666' ... '0.0' '1.0' '17.0']\n",
      " ['16/12/2006' '17:29:00' '3.52' ... '0.0' '2.0' '17.0']\n",
      " ['16/12/2006' '17:30:00' '3.702' ... '0.0' '1.0' '17.0']\n",
      " ...\n",
      " ['26/11/2010' '21:00:00' '0.938' ... '0.0' '0.0' '0.0']\n",
      " ['26/11/2010' '21:01:00' '0.934' ... '0.0' '0.0' '0.0']\n",
      " ['26/11/2010' '21:02:00' '0.932' ... '0.0' '0.0' '0.0']]\n"
     ]
    }
   ],
   "source": [
    "mask = cleaned_data_array[:, 4].astype(float) > 235\n",
    "\n",
    "selected_rows = cleaned_data_array[mask]\n",
    "print(selected_rows)"
   ]
  },
  {
   "cell_type": "markdown",
   "id": "a509887ddb5cc7b1",
   "metadata": {},
   "source": [
    "## Завдання 3\n",
    "3.1. Обрати всі домогосподарства, у яких сила струму лежить в межах \n",
    "19-20 А"
   ]
  },
  {
   "cell_type": "code",
   "execution_count": 11,
   "id": "7201978f9eedb974",
   "metadata": {
    "ExecuteTime": {
     "end_time": "2024-04-19T21:34:57.032944Z",
     "start_time": "2024-04-19T21:34:54.555605Z"
    }
   },
   "outputs": [
    {
     "name": "stdout",
     "output_type": "stream",
     "text": [
      "[['16/12/2006' '17:34:00' '4.448' ... '0.0' '1.0' '17.0']\n",
      " ['16/12/2006' '17:48:00' '4.474' ... '0.0' '0.0' '17.0']\n",
      " ['16/12/2006' '17:57:00' '4.512' ... '0.0' '0.0' '17.0']\n",
      " ...\n",
      " ['24/11/2010' '07:55:00' '4.602' ... '0.0' '40.0' '17.0']\n",
      " ['24/11/2010' '07:56:00' '4.536' ... '0.0' '39.0' '17.0']\n",
      " ['24/11/2010' '07:57:00' '4.626' ... '0.0' '39.0' '17.0']]\n"
     ]
    }
   ],
   "source": [
    "mask = (cleaned_data_array[:, 5].astype(float) >= 19) & (cleaned_data_array[:, 5].astype(float) <= 20)\n",
    "\n",
    "selected_rows = cleaned_data_array[mask]\n",
    "print(selected_rows)"
   ]
  },
  {
   "cell_type": "markdown",
   "id": "b57a5ed766dda35d",
   "metadata": {},
   "source": [
    "3.2. Для них виявити ті, у яких пральна машина та холодильних \n",
    "споживають більше, ніж бойлер та кондиціонер."
   ]
  },
  {
   "cell_type": "code",
   "execution_count": 12,
   "id": "459af453e0dc9b9b",
   "metadata": {
    "ExecuteTime": {
     "end_time": "2024-04-19T21:37:36.561461Z",
     "start_time": "2024-04-19T21:37:36.541645Z"
    }
   },
   "outputs": [
    {
     "name": "stdout",
     "output_type": "stream",
     "text": [
      "[['16/12/2006' '18:09:00' '4.464' ... '0.0' '37.0' '16.0']\n",
      " ['17/12/2006' '01:04:00' '4.582' ... '0.0' '13.0' '0.0']\n",
      " ['17/12/2006' '01:08:00' '4.618' ... '0.0' '27.0' '0.0']\n",
      " ...\n",
      " ['24/11/2010' '07:55:00' '4.602' ... '0.0' '40.0' '17.0']\n",
      " ['24/11/2010' '07:56:00' '4.536' ... '0.0' '39.0' '17.0']\n",
      " ['24/11/2010' '07:57:00' '4.626' ... '0.0' '39.0' '17.0']]\n"
     ]
    }
   ],
   "source": [
    "mask = (selected_rows[:, 6].astype(float) + selected_rows[:, 7].astype(float)) > selected_rows[:, 8].astype(float)\n",
    "\n",
    "selected_rows = selected_rows[mask]\n",
    "print(selected_rows)"
   ]
  },
  {
   "cell_type": "markdown",
   "id": "1111f4ff5c2a9708",
   "metadata": {},
   "source": [
    "## Завдання 4\n",
    "4. Обрати випадковим чином 500000 домогосподарств (без повторів \n",
    "елементів вибірки), для них обчислити середні величини усіх 3-х \n",
    "груп споживання електричної енергії, а також "
   ]
  },
  {
   "cell_type": "code",
   "execution_count": 13,
   "id": "b68410e8932045dd",
   "metadata": {
    "ExecuteTime": {
     "end_time": "2024-04-19T21:39:46.544302Z",
     "start_time": "2024-04-19T21:39:46.115901Z"
    }
   },
   "outputs": [
    {
     "name": "stdout",
     "output_type": "stream",
     "text": [
      "[['26/3/2010' '23:58:00' '0.87' ... '0.0' '1.0' '1.0']\n",
      " ['28/3/2007' '22:48:00' '0.37' ... '0.0' '0.0' '0.0']\n",
      " ['26/6/2007' '07:21:00' '1.47' ... '0.0' '2.0' '18.0']\n",
      " ...\n",
      " ['3/6/2008' '00:32:00' '0.154' ... '0.0' '0.0' '1.0']\n",
      " ['13/11/2009' '11:22:00' '1.364' ... '0.0' '0.0' '18.0']\n",
      " ['15/8/2009' '21:49:00' '1.06' ... '0.0' '0.0' '1.0']]\n"
     ]
    }
   ],
   "source": [
    "num_rows = cleaned_data_array.shape[0]\n",
    "random_indices = np.random.choice(num_rows, size=500000, replace=False)\n",
    "random_rows = cleaned_data_array[random_indices]\n",
    "print(random_rows)"
   ]
  },
  {
   "cell_type": "markdown",
   "id": "591071a858479bb6",
   "metadata": {},
   "source": [
    "## Завдання 5\n",
    "5. Обрати ті домогосподарства, які після 18-00 споживають понад 6 кВт за хвилину в середньому, серед відібраних визначити ті, у яких \n",
    "основне споживання електроенергії у вказаний проміжок часу припадає на пральну машину, сушарку, холодильник та освітлення \n",
    "(група 2 є найбільшою), а потім обрати кожен третій результат із першої половини та кожен четвертий результат із другої половини.\n",
    "\n",
    "Обчислюю середні величини усіх 3-х груп споживання електричної енергії, роблю копію датасету"
   ]
  },
  {
   "cell_type": "code",
   "execution_count": 14,
   "id": "edbec83f3d697359",
   "metadata": {
    "ExecuteTime": {
     "end_time": "2024-04-19T21:52:29.966950Z",
     "start_time": "2024-04-19T21:52:25.206867Z"
    }
   },
   "outputs": [
    {
     "name": "stdout",
     "output_type": "stream",
     "text": [
      "[['26/3/2010' '23:58:00' '0.87' ... '0.0' '1.0' '1.0']\n",
      " ['28/3/2007' '22:48:00' '0.37' ... '0.0' '0.0' '0.0']\n",
      " ['13/12/2008' '20:08:00' '2.966' ... '0.0' '0.0' '18.0']\n",
      " ...\n",
      " ['9/3/2010' '21:55:00' '1.986' ... '0.0' '0.0' '1.0']\n",
      " ['6/5/2007' '21:38:00' '3.04' ... '0.0' '0.0' '16.0']\n",
      " ['15/8/2009' '21:49:00' '1.06' ... '0.0' '0.0' '1.0']]\n"
     ]
    }
   ],
   "source": [
    "time_data = np.array([datetime.strptime(t, \"%H:%M:%S\") for t in random_rows[:, 1]])\n",
    "time = datetime.strptime(\"18:00:00\", \"%H:%M:%S\")\n",
    "selected_rows_after_18 = random_rows[time_data >= time]\n",
    "\n",
    "print(selected_rows_after_18)"
   ]
  },
  {
   "cell_type": "code",
   "execution_count": 15,
   "id": "2d756a760e42f973",
   "metadata": {
    "ExecuteTime": {
     "end_time": "2024-04-19T21:53:30.777217Z",
     "start_time": "2024-04-19T21:53:30.627014Z"
    }
   },
   "outputs": [
    {
     "name": "stdout",
     "output_type": "stream",
     "text": [
      "[['10/2/2010' '22:36:00' '2.918' ... '38.0' '0.0' '1.0']\n",
      " ['7/10/2007' '21:02:00' '5.744' ... '37.0' '31.0' '0.0']\n",
      " ['25/3/2007' '19:26:00' '5.212' ... '37.0' '3.0' '17.0']\n",
      " ...\n",
      " ['24/12/2009' '18:13:00' '3.952' ... '0.0' '22.0' '19.0']\n",
      " ['28/3/2010' '21:01:00' '5.14' ... '37.0' '29.0' '1.0']\n",
      " ['25/11/2007' '20:45:00' '5.37' ... '38.0' '0.0' '17.0']]\n"
     ]
    }
   ],
   "source": [
    "selected_rows_after_18 = selected_rows_after_18[selected_rows_after_18[:, 6:8].astype(float).mean(axis=1) > 6]\n",
    "\n",
    "print(selected_rows_after_18)"
   ]
  },
  {
   "cell_type": "markdown",
   "id": "1dd474fd0bb7aab",
   "metadata": {},
   "source": [
    "серед відібраних визначити ті, у яких \n",
    "основне споживання електроенергії у вказаний проміжок часу \n",
    "припадає на пральну машину, сушарку, холодильник та освітлення \n",
    "(група 2 є найбільшою)"
   ]
  },
  {
   "cell_type": "code",
   "execution_count": 16,
   "id": "bef56e6f16ee5cff",
   "metadata": {
    "ExecuteTime": {
     "end_time": "2024-04-19T21:57:00.656481Z",
     "start_time": "2024-04-19T21:57:00.617854Z"
    }
   },
   "outputs": [
    {
     "name": "stdout",
     "output_type": "stream",
     "text": [
      "[['24/11/2009' '19:56:00' '4.552' ... '0.0' '36.0' '18.0']\n",
      " ['13/8/2009' '20:43:00' '2.376' ... '0.0' '30.0' '0.0']\n",
      " ['18/1/2009' '21:18:00' '5.25' ... '1.0' '36.0' '18.0']\n",
      " ...\n",
      " ['22/9/2008' '20:24:00' '4.702' ... '2.0' '37.0' '17.0']\n",
      " ['8/5/2010' '21:45:00' '3.504' ... '0.0' '33.0' '18.0']\n",
      " ['24/12/2009' '18:13:00' '3.952' ... '0.0' '22.0' '19.0']]\n"
     ]
    }
   ],
   "source": [
    "selected_rows_after_18 = selected_rows_after_18[(selected_rows_after_18[:, 7].astype(float) > selected_rows_after_18[:, 6].astype(float)) & \n",
    "                                                ((selected_rows_after_18[:, 7].astype(float) > selected_rows_after_18[:, 8].astype(float)))]\n",
    "\n",
    "print(selected_rows_after_18)"
   ]
  },
  {
   "cell_type": "markdown",
   "id": "39b1b07ac84f689a",
   "metadata": {},
   "source": [
    "а потім обрати кожен третій результат із \n",
    "першої половини та кожен четвертий результат із другої половини"
   ]
  },
  {
   "cell_type": "code",
   "execution_count": 17,
   "id": "29b9f246b08a5028",
   "metadata": {
    "ExecuteTime": {
     "end_time": "2024-04-19T22:01:29.573798Z",
     "start_time": "2024-04-19T22:01:29.565367Z"
    }
   },
   "outputs": [
    {
     "name": "stdout",
     "output_type": "stream",
     "text": [
      "[['24/11/2009' '19:56:00' '4.552' ... '0.0' '36.0' '18.0']\n",
      " ['18/1/2009' '21:18:00' '5.25' ... '1.0' '36.0' '18.0']\n",
      " ['4/3/2007' '22:02:00' '1.568' ... '0.0' '16.0' '0.0']\n",
      " ...\n",
      " ['21/10/2008' '19:21:00' '3.538' ... '0.0' '20.0' '2.0']\n",
      " ['8/3/2010' '20:57:00' '2.838' ... '0.0' '27.0' '1.0']\n",
      " ['19/8/2007' '18:02:00' '3.036' ... '0.0' '38.0' '0.0']] \n",
      "\n",
      "[['25/5/2008' '18:12:00' '2.322' ... '0.0' '28.0' '1.0']\n",
      " ['20/8/2007' '19:51:00' '1.828' ... '0.0' '26.0' '0.0']\n",
      " ['3/10/2007' '21:42:00' '3.976' ... '0.0' '38.0' '0.0']\n",
      " ...\n",
      " ['4/8/2008' '19:28:00' '5.688' ... '0.0' '70.0' '17.0']\n",
      " ['20/3/2007' '21:46:00' '6.142' ... '2.0' '36.0' '17.0']\n",
      " ['8/5/2010' '21:45:00' '3.504' ... '0.0' '33.0' '18.0']]\n"
     ]
    }
   ],
   "source": [
    "first_half, second_half = np.array_split(selected_rows_after_18, 2)\n",
    "\n",
    "selected_first_half = first_half[::2]\n",
    "selected_second_half = second_half[::3]\n",
    "\n",
    "print(selected_first_half, '\\n')\n",
    "print(selected_second_half)"
   ]
  },
  {
   "cell_type": "code",
   "execution_count": null,
   "id": "52bca9e0f30a2b2e",
   "metadata": {},
   "outputs": [],
   "source": []
  }
 ],
 "metadata": {
  "kernelspec": {
   "display_name": "Python 3 (ipykernel)",
   "language": "python",
   "name": "python3"
  },
  "language_info": {
   "codemirror_mode": {
    "name": "ipython",
    "version": 3
   },
   "file_extension": ".py",
   "mimetype": "text/x-python",
   "name": "python",
   "nbconvert_exporter": "python",
   "pygments_lexer": "ipython3",
   "version": "3.11.5"
  }
 },
 "nbformat": 4,
 "nbformat_minor": 5
}
