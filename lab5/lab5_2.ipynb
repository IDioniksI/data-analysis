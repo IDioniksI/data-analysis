{
 "cells": [
  {
   "metadata": {},
   "cell_type": "markdown",
   "source": [
    "## <center>Підготовка та аналіз даних</center>\n",
    "## <center>Лабораторна робота №5</center>\n",
    "#### <center>ФБ-25 Кравченко Максим</center>"
   ],
   "id": "857d44397c57d9d3"
  },
  {
   "cell_type": "code",
   "id": "initial_id",
   "metadata": {
    "collapsed": true,
    "ExecuteTime": {
     "end_time": "2024-05-18T06:06:30.957323Z",
     "start_time": "2024-05-18T06:06:30.777832Z"
    }
   },
   "source": [
    "import numpy as np\n",
    "from IPython.display import display\n",
    "import plotly.graph_objs as go\n",
    "from ipywidgets import FloatSlider, Checkbox, Button, HBox, VBox\n",
    "\n",
    "t = np.linspace(0, 1, 1000)\n",
    "fs = 1000\n",
    "noise = np.random.normal(0, np.sqrt(0.1), len(t))\n",
    "last_noise_covariance = 0.1\n",
    "initial_values = {'amplitude': 1.0, 'frequency': 1.0, 'noise_covariance': 0.1, 'show_noise': True}\n",
    "\n",
    "def harmonic_with_noise(amplitude, frequency, noise_covariance, show_noise=True):\n",
    "    global noise, last_noise_covariance, original_noisy_signal\n",
    "    \n",
    "    if noise_covariance != last_noise_covariance:\n",
    "        noise = np.random.normal(0, np.sqrt(noise_covariance), len(t))\n",
    "        last_noise_covariance = noise_covariance\n",
    "    \n",
    "    signal = amplitude * np.sin(2 * np.pi * frequency * t)\n",
    "    original_noisy_signal = signal + noise\n",
    "    \n",
    "    if show_noise:\n",
    "        noisy_signal = original_noisy_signal\n",
    "    else:\n",
    "        noisy_signal = signal\n",
    "    \n",
    "    return signal, noisy_signal\n",
    "\n",
    "def custom_lowpass_filter(signal, cutoff_freq, fs=1000):\n",
    "    freq_signal = np.fft.fft(signal)\n",
    "    frequencies = np.fft.fftfreq(len(signal), 1/fs)\n",
    "    \n",
    "    cutoff = cutoff_freq * fs\n",
    "    filter_mask = np.abs(frequencies) <= cutoff\n",
    "    \n",
    "    filtered_freq_signal = freq_signal * filter_mask\n",
    "    \n",
    "    filtered_signal = np.fft.ifft(filtered_freq_signal).real\n",
    "    \n",
    "    return filtered_signal\n",
    "\n",
    "amplitude_slider = FloatSlider(value=initial_values['amplitude'], min=0.1, max=5.0, step=0.1, description='Amplitude:')\n",
    "frequency_slider = FloatSlider(value=initial_values['frequency'], min=0.1, max=5.0, step=0.1, description='Frequency:')\n",
    "noise_covariance_slider = FloatSlider(value=initial_values['noise_covariance'], min=0.01, max=1.0, step=0.01, description='Noise Covariance:')\n",
    "cutoff_freq_slider = FloatSlider(value=0.1, min=0.01, max=0.5, step=0.01, description='Cutoff Frequency:')\n",
    "show_noise_checkbox = Checkbox(value=True, description='Show Noisy Signal')\n",
    "reset_button = Button(description='Reset', button_style='info')\n",
    "\n",
    "signal, noisy_signal = harmonic_with_noise(**initial_values)\n",
    "filtered_signal = custom_lowpass_filter(noisy_signal, cutoff_freq_slider.value)\n",
    "\n",
    "trace_signal = go.Scatter(x=t, y=signal, mode='lines', name='Signal', line=dict(color='blue'))\n",
    "trace_noisy_signal = go.Scatter(x=t, y=noisy_signal, mode='lines', name='Noisy Signal', line=dict(color='lightpink'))\n",
    "trace_filtered_signal = go.Scatter(x=t, y=filtered_signal, mode='lines', name='Filtered Signal', line=dict(color='green'))\n",
    "\n",
    "fig1 = go.FigureWidget(data=[trace_signal, trace_noisy_signal], layout=go.Layout(title='Harmonic Signal with Noise', xaxis_title='Time', yaxis_title='Value'))\n",
    "fig2 = go.FigureWidget(data=[trace_filtered_signal], layout=go.Layout(title='Filtered Signal', xaxis_title='Time', yaxis_title='Value'))\n",
    "\n",
    "def update_plot(change):\n",
    "    amplitude = amplitude_slider.value\n",
    "    frequency = frequency_slider.value\n",
    "    noise_covariance = noise_covariance_slider.value\n",
    "    show_noise = show_noise_checkbox.value\n",
    "    cutoff_freq = cutoff_freq_slider.value\n",
    "    \n",
    "    signal, noisy_signal = harmonic_with_noise(amplitude, frequency, noise_covariance, show_noise)\n",
    "    filtered_signal = custom_lowpass_filter(original_noisy_signal, cutoff_freq)\n",
    "    \n",
    "    with fig1.batch_update():\n",
    "        fig1.data[0].y = signal\n",
    "        fig1.data[1].y = noisy_signal\n",
    "        fig1.data[1].visible = show_noise\n",
    "        if show_noise:\n",
    "            fig1.update_layout(title='Harmonic Signal with Noise')\n",
    "        else:\n",
    "            fig1.update_layout(title='Harmonic Signal')\n",
    "    \n",
    "    with fig2.batch_update():\n",
    "        fig2.data[0].y = filtered_signal\n",
    "\n",
    "def reset_values(button):\n",
    "    amplitude_slider.value = initial_values['amplitude']\n",
    "    frequency_slider.value = initial_values['frequency']\n",
    "    noise_covariance_slider.value = initial_values['noise_covariance']\n",
    "    cutoff_freq_slider.value = 0.1\n",
    "    show_noise_checkbox.value = initial_values['show_noise']\n",
    "\n",
    "reset_button.on_click(reset_values)\n",
    "\n",
    "amplitude_slider.observe(update_plot, 'value')\n",
    "frequency_slider.observe(update_plot, 'value')\n",
    "noise_covariance_slider.observe(update_plot, 'value')\n",
    "cutoff_freq_slider.observe(update_plot, 'value')\n",
    "show_noise_checkbox.observe(update_plot, 'value')\n",
    "\n",
    "reset_button.style.button_color = 'lightblue'\n",
    "reset_button.layout.margin_left = '20px'\n",
    "\n",
    "display(VBox([HBox([amplitude_slider, frequency_slider, noise_covariance_slider, show_noise_checkbox, reset_button]), cutoff_freq_slider, fig1, fig2]))\n"
   ],
   "outputs": [
    {
     "data": {
      "text/plain": [
       "VBox(children=(HBox(children=(FloatSlider(value=1.0, description='Amplitude:', max=5.0, min=0.1), FloatSlider(…"
      ],
      "application/vnd.jupyter.widget-view+json": {
       "version_major": 2,
       "version_minor": 0,
       "model_id": "45fba7c2784c49d8b6db48a69fb8d897"
      }
     },
     "metadata": {},
     "output_type": "display_data"
    }
   ],
   "execution_count": 2
  },
  {
   "metadata": {},
   "cell_type": "code",
   "outputs": [],
   "execution_count": null,
   "source": "",
   "id": "1175006bb965420d"
  }
 ],
 "metadata": {
  "kernelspec": {
   "display_name": "Python 3",
   "language": "python",
   "name": "python3"
  },
  "language_info": {
   "codemirror_mode": {
    "name": "ipython",
    "version": 2
   },
   "file_extension": ".py",
   "mimetype": "text/x-python",
   "name": "python",
   "nbconvert_exporter": "python",
   "pygments_lexer": "ipython2",
   "version": "2.7.6"
  }
 },
 "nbformat": 4,
 "nbformat_minor": 5
}
